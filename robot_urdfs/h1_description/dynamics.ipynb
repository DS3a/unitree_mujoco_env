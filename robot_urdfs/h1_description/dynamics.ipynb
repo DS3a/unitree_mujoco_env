{
 "cells": [
  {
   "cell_type": "code",
   "execution_count": 11,
   "metadata": {},
   "outputs": [],
   "source": [
    "import pinocchio as pin\n",
    "import numpy as np"
   ]
  },
  {
   "cell_type": "code",
   "execution_count": 21,
   "metadata": {},
   "outputs": [],
   "source": [
    "model = pin.buildModelFromMJCF(\"mjcf/h1_ball_hands.xml\", pin.JointModelFreeFlyer())\n",
    "data = model.createData()"
   ]
  },
  {
   "cell_type": "code",
   "execution_count": 22,
   "metadata": {},
   "outputs": [
    {
     "name": "stdout",
     "output_type": "stream",
     "text": [
      "(26,)\n",
      "(25,)\n"
     ]
    }
   ],
   "source": [
    "q = np.random.rand(model.nq)\n",
    "print(q.shape)\n",
    "vq = np.random.rand(model.nv)\n",
    "print(vq.shape)"
   ]
  },
  {
   "cell_type": "code",
   "execution_count": 27,
   "metadata": {},
   "outputs": [
    {
     "name": "stdout",
     "output_type": "stream",
     "text": [
      "(25, 25)\n",
      "(25,)\n"
     ]
    }
   ],
   "source": [
    "# M(q)\n",
    "M = pin.crba(model, data, q)\n",
    "print(M.shape)\n",
    "h = pin.rnea(model, data, q, vq, np.zeros(25))\n",
    "print(h.shape)"
   ]
  },
  {
   "cell_type": "markdown",
   "metadata": {},
   "source": []
  }
 ],
 "metadata": {
  "kernelspec": {
   "display_name": "Python 3",
   "language": "python",
   "name": "python3"
  },
  "language_info": {
   "codemirror_mode": {
    "name": "ipython",
    "version": 3
   },
   "file_extension": ".py",
   "mimetype": "text/x-python",
   "name": "python",
   "nbconvert_exporter": "python",
   "pygments_lexer": "ipython3",
   "version": "3.10.12"
  }
 },
 "nbformat": 4,
 "nbformat_minor": 2
}
